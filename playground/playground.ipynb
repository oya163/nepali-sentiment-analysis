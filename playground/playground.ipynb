{
 "cells": [
  {
   "cell_type": "code",
   "execution_count": 58,
   "metadata": {},
   "outputs": [],
   "source": [
    "import torch\n",
    "from torchtext import data, vocab, datasets\n",
    "from tqdm import tqdm, tqdm_notebook, tnrange\n",
    "tqdm.pandas(desc='Progress')\n",
    "\n",
    "SEED = 1234\n",
    "\n",
    "torch.manual_seed(SEED)\n",
    "torch.backends.cudnn.deterministic = True\n",
    "\n",
    "TEXT = data.Field(tokenize=list, use_vocab=True, unk_token='<unk>', batch_first=True)\n",
    "TITLE = data.Field(tokenize=list, use_vocab=True, unk_token='<unk>', batch_first=True)\n",
    "LABEL = data.Field(unk_token=None, batch_first=True)\n",
    "\n",
    "fields = (('LABEL', LABEL), ('TITLE', TITLE), ('TEXT', TEXT))\n",
    "\n",
    "train_ds, test_ds = data.TabularDataset.splits(path='./data/ag_news_csv/kfold/1/', \n",
    "                                            format='csv', \n",
    "                                            train='train.txt',\n",
    "                                            test = 'test.txt',\n",
    "                                            fields=fields)"
   ]
  },
  {
   "cell_type": "code",
   "execution_count": 49,
   "metadata": {},
   "outputs": [],
   "source": [
    "vec = vocab.Vectors(name='nep_english.vec', cache='./data/embeddings')\n",
    "\n",
    "TEXT.build_vocab(train_ds, test_ds, max_size=None, vectors=vec)\n",
    "TITLE.build_vocab(train_ds, test_ds, max_size=None, vectors=vec)\n",
    "LABEL.build_vocab(train_ds.LABEL, test_ds.LABEL, max_size=None, vectors=vec)"
   ]
  },
  {
   "cell_type": "code",
   "execution_count": 50,
   "metadata": {},
   "outputs": [],
   "source": [
    "batch_size = 1\n",
    "train_iter, test_iter = data.BucketIterator.splits(datasets=(train_ds, test_ds), \n",
    "                                    batch_sizes=(batch_size, batch_size), \n",
    "                                    sort_key=lambda x: len(x.TEXT), \n",
    "                                    device='cpu', \n",
    "                                    sort_within_batch=True, \n",
    "                                    repeat=False,\n",
    "                                    shuffle=True)"
   ]
  },
  {
   "cell_type": "code",
   "execution_count": 51,
   "metadata": {},
   "outputs": [],
   "source": [
    "sample = next(iter(train_iter))"
   ]
  },
  {
   "cell_type": "code",
   "execution_count": 63,
   "metadata": {},
   "outputs": [
    {
     "name": "stdout",
     "output_type": "stream",
     "text": [
      "['Microsoft', 'is', 'offering', 'a', 'patch', 'for', 'a', 'critical', 'security', 'flaw', 'related', 'to', 'the', 'processing', 'of', 'JPEG', 'images', 'by', 'its', 'operating', 'systems', 'and', 'other', 'applications.']\n",
      "['Network', 'Security', 'Microsoft', 'Image', 'Flaw', 'Opens', 'Door', 'to', 'Hackers']\n",
      "4\n"
     ]
    }
   ],
   "source": [
    "ex = train_ds[0]\n",
    "print(''.join(ex.TEXT).split())\n",
    "print(''.join(ex.TITLE).split())\n",
    "print(''.join(ex.LABEL))"
   ]
  },
  {
   "cell_type": "code",
   "execution_count": 67,
   "metadata": {},
   "outputs": [
    {
     "name": "stderr",
     "output_type": "stream",
     "text": [
      "\n",
      "\n",
      "\n",
      "\n",
      "\n",
      "\n",
      "  0%|          | 0/96035 [00:00<?, ?it/s]\u001b[A\u001b[A\u001b[A\u001b[A\u001b[A\u001b[A\n",
      "\n",
      "\n",
      "\n",
      "\n",
      "\n",
      "\u001b[A\u001b[A\u001b[A\u001b[A\u001b[A\u001b[A                       \n",
      "\n",
      "\n",
      "\n",
      "\n",
      "\u001b[A\u001b[A\u001b[A\u001b[A\u001b[A"
     ]
    },
    {
     "name": "stdout",
     "output_type": "stream",
     "text": [
      "tensor([[ 2]])\n",
      "tensor([[ 34,  30,  29,   2,   2,   4,   5,  25,   5,   2,   2,  19,\n",
      "           6,   9,   2,   2,  43,   8,  10,  13,  53,   2,   2,  22,\n",
      "           4,  10,   2,   2,   6,  10,   2,   2,  20,  27,  39,   2]])\n",
      "tensor([[ 32,   6,   2,  25,   2,   2,   5,  12,   3,   2,   2,  28,\n",
      "          31,  39,   2,   2,  53,   9,   6,  15,  17,   2,   2,   7,\n",
      "          10,   2,   2,   5,  12,   3,   2,   2,  14,   6,  17,  20,\n",
      "           9,   7,  18,  12,   5,   2,   2,  24,   7,   6,  11,   4,\n",
      "           5,   6,   9,   2,  25,   2,   2,   4,  14,  14,   6,   9,\n",
      "          13,   7,   8,  18,   2,   2,   5,   6,   2,   2,  38,   7,\n",
      "          18,   2,   2,  38,  11,  15,   3,  59,  10,   2,   2,  11,\n",
      "           4,   5,   3,  10,   5,   2,   2,  19,   7,  11,   7,   8,\n",
      "          18,  23]])\n"
     ]
    }
   ],
   "source": [
    "train_dlen = len(train_iter)\n",
    "t = tqdm(iter(train_iter), leave=False, total=train_dlen)\n",
    "for (k, v) in t:\n",
    "    (y, tl, X) = k\n",
    "    print(y)\n",
    "    print(tl)\n",
    "    print(X)\n",
    "    break\n",
    "\n"
   ]
  },
  {
   "cell_type": "code",
   "execution_count": 71,
   "metadata": {},
   "outputs": [],
   "source": [
    "import os\n",
    "import argparse\n",
    "import pandas as pd\n",
    "import numpy as np\n",
    "from utility.dataloader import Dataloader\n",
    "\n",
    "from tqdm import tqdm, tqdm_notebook, tnrange\n",
    "tqdm.pandas(desc='Progress')\n",
    "\n",
    "import torch\n",
    "import torch.nn as nn\n",
    "import torch.nn.functional as F\n",
    "import torch.optim as optim\n",
    "\n",
    "from uniseg.graphemecluster import grapheme_clusters\n",
    "\n",
    "class LSTMTagger(nn.Module):\n",
    "    def __init__(self, config, dataloader):\n",
    "        super(LSTMTagger, self).__init__()\n",
    "        self.bidirectional = config.bidirection\n",
    "        self.num_layers = config.num_layers\n",
    "        self.batch_size = config.batch_size\n",
    "        self.hidden_dim = config.hidden_dim\n",
    "        self.vocab_size = dataloader.vocab_size\n",
    "        self.tagset_size = dataloader.tagset_size\n",
    "        self.embedding_dim = config.embedding_dim\n",
    "        self.device = config.device\n",
    "#         self.use_pos = config.use_pos\n",
    "        \n",
    "#         if self.use_pos:\n",
    "#             self.pos_size = dataloader.pos_size\n",
    "#             self.embedding_dim = config.embedding_dim + self.pos_size\n",
    "#             pos_one_hot = np.eye(self.pos_size)\n",
    "#             one_hot_weight = torch.from_numpy(pos_one_hot).float()\n",
    "#             self.one_hot_embeddings = nn.Embedding(self.pos_size, self.pos_size, _weight=one_hot_weight)\n",
    "        \n",
    "        if config.pretrained:\n",
    "            self.word_embeddings = nn.Embedding.from_pretrained(dataloader.weights)\n",
    "        else:\n",
    "            self.word_embeddings = nn.Embedding(self.vocab_size, self.embedding_dim)\n",
    "        \n",
    "        self.lstm = nn.LSTM(self.embedding_dim, self.hidden_dim, \n",
    "                            bidirectional=self.bidirectional, \n",
    "                            num_layers=self.num_layers)\n",
    "        \n",
    "        if self.bidirectional:\n",
    "            self.hidden2tag = nn.Linear(self.hidden_dim * 2, self.tagset_size)\n",
    "        else:\n",
    "            self.hidden2tag = nn.Linear(self.hidden_dim, self.tagset_size)      \n",
    "        \n",
    "        self.dropout = nn.Dropout(config.dropout)\n",
    "#         self.dropout_embed = nn.Dropout(config.dropout_embed)\n",
    "        \n",
    "#         self.extra_layer = nn.Linear(2*self.hidden_dim, self.hidden_dim)\n",
    "#         self.final_layer = nn.Linear(self.hidden_dim, self.tagset_size)\n",
    "\n",
    "    def init_hidden(self, tensor_size):\n",
    "        if self.bidirectional:\n",
    "            h0 = torch.zeros(2 * self.num_layers, tensor_size[1], self.hidden_dim)\n",
    "            c0 = torch.zeros(2 * self.num_layers, tensor_size[1], self.hidden_dim)         \n",
    "        else:\n",
    "            h0 = torch.zeros(self.num_layers, tensor_size[1], self.hidden_dim)\n",
    "            c0 = torch.zeros(self.num_layers, tensor_size[1], self.hidden_dim)         \n",
    "        if self.device:\n",
    "            h0 = h0.to(self.device)\n",
    "            c0 = c0.to(self.device)\n",
    "        return (h0, c0)\n",
    "    \n",
    "    \n",
    "    def forward(self, X, at):\n",
    "        X = self.word_embeddings(X)\n",
    "        at = self.word_embeddings(y)\n",
    "        \n",
    "        X = torch.cat((X, at), dim=-1)\n",
    "        \n",
    "        X, _ = self.lstm(self.dropout(X))\n",
    "        \n",
    "        tag_space = self.hidden2tag(X.view(-1, X.shape[2]))\n",
    "        tag_scores = F.log_softmax(tag_space, dim=1)\n",
    "\n",
    "        return tag_scores"
   ]
  },
  {
   "cell_type": "code",
   "execution_count": 69,
   "metadata": {},
   "outputs": [],
   "source": [
    "input_file = './data/dataset/total.conll'\n",
    "output_file = './data/dataset/total_clean.conll'\n",
    "\n",
    "with open(input_file,'r', encoding='utf-8') as in_file, open(output_file,'w', encoding='utf-8') as out_f:\n",
    "    sentence = []\n",
    "    tag = []\n",
    "    max_length=0\n",
    "    max_sentence=''\n",
    "    max_counter=0\n",
    "    min_counter=0\n",
    "    sent_counter=0\n",
    "    line_num=0\n",
    "    j=0\n",
    "    for i,row in enumerate(in_file):\n",
    "        #To know which line is defunct in file\n",
    "        #print(i+1)\n",
    "        row = row.strip().split()\n",
    "\n",
    "        if len(row)>=4:\n",
    "            out_f.write(\"{}\\t{}\\t{}\\t{}\\n\".format(row[0], row[1], row[2], row[3]))\n",
    "        elif len(row) == 0:\n",
    "            out_f.write(\"\\n\")"
   ]
  },
  {
   "cell_type": "code",
   "execution_count": 70,
   "metadata": {},
   "outputs": [],
   "source": [
    "\n"
   ]
  },
  {
   "cell_type": "code",
   "execution_count": 57,
   "metadata": {},
   "outputs": [
    {
     "data": {
      "text/plain": [
       "tensor([[ 0.8176,  0.4855,  0.8950,  0.5104,  0.2835],\n",
       "        [ 0.2434,  0.5992,  0.0913,  0.2088,  0.6545]])"
      ]
     },
     "execution_count": 57,
     "metadata": {},
     "output_type": "execute_result"
    }
   ],
   "source": [
    "x = torch.rand(2, 5)\n",
    "x\n"
   ]
  },
  {
   "cell_type": "code",
   "execution_count": 58,
   "metadata": {},
   "outputs": [
    {
     "data": {
      "text/plain": [
       "torch.Size([2, 5])"
      ]
     },
     "execution_count": 58,
     "metadata": {},
     "output_type": "execute_result"
    }
   ],
   "source": [
    "y = torch.tensor([[0, 1, 2, 0, 0], [2, 0, 0, 1, 2]])\n",
    "y.shape"
   ]
  },
  {
   "cell_type": "code",
   "execution_count": 59,
   "metadata": {},
   "outputs": [
    {
     "data": {
      "text/plain": [
       "tensor([[ 0.8176,  0.5992,  0.0913,  0.5104,  0.2835],\n",
       "        [ 0.0000,  0.4855,  0.0000,  0.2088,  0.0000],\n",
       "        [ 0.2434,  0.0000,  0.8950,  0.0000,  0.6545]])"
      ]
     },
     "execution_count": 59,
     "metadata": {},
     "output_type": "execute_result"
    }
   ],
   "source": [
    "torch.zeros(3, 5).scatter_(0, y, x)"
   ]
  },
  {
   "cell_type": "code",
   "execution_count": 49,
   "metadata": {},
   "outputs": [
    {
     "data": {
      "text/plain": [
       "torch.Size([2, 5])"
      ]
     },
     "execution_count": 49,
     "metadata": {},
     "output_type": "execute_result"
    }
   ],
   "source": [
    "torch.tensor([[0, 1, 2, 0, 0], [2, 0, 0, 1, 2]]).shape"
   ]
  },
  {
   "cell_type": "code",
   "execution_count": 70,
   "metadata": {},
   "outputs": [
    {
     "data": {
      "text/plain": [
       "tensor([[ 0.,  1.,  0.,  0.],\n",
       "        [ 0.,  0.,  1.,  0.],\n",
       "        [ 0.,  0.,  0.,  1.]])"
      ]
     },
     "execution_count": 70,
     "metadata": {},
     "output_type": "execute_result"
    }
   ],
   "source": [
    "z = torch.zeros(3, 4).scatter_(1, torch.tensor([[1], [2], [3]]), 1)\n",
    "z"
   ]
  },
  {
   "cell_type": "code",
   "execution_count": 71,
   "metadata": {},
   "outputs": [
    {
     "data": {
      "text/plain": [
       "tensor([[ 2],\n",
       "        [ 3]])"
      ]
     },
     "execution_count": 71,
     "metadata": {},
     "output_type": "execute_result"
    }
   ],
   "source": [
    "torch.tensor([[2], [3]])"
   ]
  },
  {
   "cell_type": "code",
   "execution_count": 79,
   "metadata": {},
   "outputs": [
    {
     "data": {
      "text/plain": [
       "tensor([[[ 0.1852, -0.3144, -0.1508, -0.7691, -0.0778],\n",
       "         [-0.6281, -1.0593, -1.2597,  1.0248, -1.0446],\n",
       "         [ 0.7676,  1.0655,  0.6993, -0.3534,  0.3386],\n",
       "         [-0.9379,  0.5636, -0.9402,  1.4113, -0.2798],\n",
       "         [-0.2377,  1.2964, -0.0705,  0.6690,  0.9116]]])"
      ]
     },
     "execution_count": 79,
     "metadata": {},
     "output_type": "execute_result"
    }
   ],
   "source": [
    "word_emb = torch.randn(1,5,5)\n",
    "word_emb"
   ]
  },
  {
   "cell_type": "code",
   "execution_count": 82,
   "metadata": {},
   "outputs": [],
   "source": [
    "import torch.nn.functional as F"
   ]
  },
  {
   "cell_type": "code",
   "execution_count": 84,
   "metadata": {},
   "outputs": [
    {
     "ename": "AttributeError",
     "evalue": "module 'torch.nn.functional' has no attribute 'one_hot'",
     "output_type": "error",
     "traceback": [
      "\u001b[0;31m---------------------------------------------------------------------------\u001b[0m",
      "\u001b[0;31mAttributeError\u001b[0m                            Traceback (most recent call last)",
      "\u001b[0;32m<ipython-input-84-0a210f0f2f2f>\u001b[0m in \u001b[0;36m<module>\u001b[0;34m\u001b[0m\n\u001b[0;32m----> 1\u001b[0;31m \u001b[0mtorch\u001b[0m\u001b[0;34m.\u001b[0m\u001b[0mnn\u001b[0m\u001b[0;34m.\u001b[0m\u001b[0mfunctional\u001b[0m\u001b[0;34m.\u001b[0m\u001b[0mone_hot\u001b[0m\u001b[0;34m(\u001b[0m\u001b[0mtorch\u001b[0m\u001b[0;34m.\u001b[0m\u001b[0marange\u001b[0m\u001b[0;34m(\u001b[0m\u001b[0;36m0\u001b[0m\u001b[0;34m,\u001b[0m \u001b[0;36m5\u001b[0m\u001b[0;34m)\u001b[0m \u001b[0;34m%\u001b[0m \u001b[0;36m3\u001b[0m\u001b[0;34m)\u001b[0m\u001b[0;34m\u001b[0m\u001b[0;34m\u001b[0m\u001b[0m\n\u001b[0m",
      "\u001b[0;31mAttributeError\u001b[0m: module 'torch.nn.functional' has no attribute 'one_hot'"
     ]
    }
   ],
   "source": [
    "torch.nn.functional.one_hot(torch.arange(0, 5) % 3)"
   ]
  },
  {
   "cell_type": "code",
   "execution_count": 7,
   "metadata": {},
   "outputs": [
    {
     "data": {
      "text/plain": [
       "0.8"
      ]
     },
     "execution_count": 7,
     "metadata": {},
     "output_type": "execute_result"
    }
   ],
   "source": [
    "import numpy as np\n",
    "from sklearn.metrics import roc_auc_score\n",
    "\n",
    "y_true = np.array([[0,0,1,1], [0,0,0,1]])\n",
    "y_scores = np.array([[0,1,1,1], [0,0,1,1]])\n",
    "roc_auc_score(y_true, y_scores, average='micro')"
   ]
  },
  {
   "cell_type": "code",
   "execution_count": 8,
   "metadata": {},
   "outputs": [
    {
     "data": {
      "text/plain": [
       "(2, 4)"
      ]
     },
     "execution_count": 8,
     "metadata": {},
     "output_type": "execute_result"
    }
   ],
   "source": [
    "y_true.shape"
   ]
  },
  {
   "cell_type": "code",
   "execution_count": 60,
   "metadata": {},
   "outputs": [],
   "source": [
    "gold = [1, 1, 1, 1, 1, 1, 1, 1, 1, 2, 1, 1, 1, 1, 1, 1, 1, 1, 1, 2, 1, 1, 1, 1, 2, 2, 1, 3, 2, 1, 1, 1, 1, 1, 3, 1, 1, 2, 3, 1, 3, 1, 2, 2, 3, 1, 1, 1, 1, 1, 4, 1, 1, 1, 1, 1, 2, 2, 1, 1, 1, 2, 1, 4, 1, 1, 1, 2, 1, 2, 1, 1, 1, 4, 1, 1, 3, 1, 1, 4, 1, 3, 1, 1, 1, 1, 1, 3, 1, 1, 1, 1, 1, 2, 1, 1, 1, 2, 1, 1, 3, 1, 1, 1, 3, 1, 1, 1, 1, 1, 1, 1, 1, 4, 1, 1, 1, 4, 1, 2, 1, 2, 1, 1, 4, 1, 1, 1, 1, 1, 2, 2, 1, 1, 1, 1, 2, 1, 2, 2, 1, 1, 1, 1, 1, 1, 2, 1, 1, 1, 1, 3, 1, 1, 3, 2, 3, 2, 2, 1, 1, 1, 1, 1, 4, 1, 1, 1, 1, 4, 4, 1, 2, 3, 1, 1, 4, 2, 1, 1, 1, 4, 2, 1, 1, 1, 1, 4, 1, 1, 1, 4, 1, 1, 4, 2, 1, 1, 2, 2, 1, 2, 1, 1, 4, 1, 1, 1, 1, 1, 1, 1, 1, 1, 2, 3, 1, 1, 3, 1, 1, 3, 1, 1, 1, 1, 1, 3, 1, 1, 4, 1, 1, 1, 1, 4, 2, 3, 1, 1, 1, 4, 1, 4, 1, 1, 1, 1, 3, 2, 3, 1, 2, 1, 1, 1, 2, 4, 1, 3, 1, 1, 2, 4, 1, 2, 1, 1, 1, 1, 1, 1, 1, 3, 1, 1, 1, 1, 2, 4, 4, 1, 1, 3, 4, 1, 1, 1, 1, 1, 1, 1, 3, 1, 3, 1, 1, 1, 1, 1, 1, 1, 1, 1, 1, 4, 1, 1, 1, 1, 1, 1, 1, 1, 4, 1, 1, 1, 4, 1, 2, 1, 1, 3, 1, 1, 4, 1, 1, 1, 1, 1, 2, 1, 1, 1, 1, 2, 1, 1, 4, 1, 1, 4, 1, 4, 1, 2, 1, 1, 1, 1, 1, 1, 4, 4, 1, 3, 1, 1, 1, 1, 2, 3, 1, 1, 2, 1, 1, 2, 1, 1, 1, 4, 1, 1, 1, 4, 2, 1, 3, 1, 3, 1, 1, 1, 1, 1, 4, 1, 2, 1, 1, 3, 1, 2, 4, 1, 1, 1, 4, 1, 3, 3, 1, 1, 2, 4, 1, 1, 1]\n",
    "pred = [1, 1, 1, 1, 1, 1, 1, 1, 1, 1, 1, 1, 1, 1, 1, 1, 1, 1, 1, 1, 1, 1, 1, 1, 1, 1, 1, 1, 1, 1, 1, 1, 1, 1, 1, 1, 1, 1, 1, 1, 1, 1, 1, 1, 1, 1, 1, 1, 1, 1, 1, 1, 1, 1, 1, 1, 1, 1, 1, 1, 1, 1, 1, 1, 1, 1, 1, 1, 1, 1, 1, 1, 1, 1, 1, 1, 1, 1, 1, 1, 1, 1, 1, 1, 1, 1, 1, 1, 1, 1, 1, 1, 1, 1, 1, 1, 1, 1, 1, 1, 1, 1, 1, 1, 1, 1, 1, 1, 1, 1, 1, 1, 1, 1, 1, 1, 1, 1, 1, 1, 1, 1, 1, 1, 1, 1, 1, 1, 1, 1, 1, 1, 1, 1, 1, 1, 1, 1, 1, 1, 1, 1, 1, 1, 1, 1, 1, 1, 1, 1, 1, 1, 1, 1, 1, 1, 1, 1, 1, 1, 1, 1, 1, 1, 1, 1, 1, 1, 1, 1, 1, 1, 1, 1, 1, 1, 1, 1, 1, 1, 1, 1, 1, 1, 1, 1, 1, 1, 1, 1, 1, 1, 1, 1, 1, 1, 1, 1, 1, 1, 1, 1, 1, 1, 1, 1, 1, 1, 1, 1, 1, 1, 1, 1, 1, 1, 1, 1, 1, 1, 1, 1, 1, 1, 1, 1, 1, 1, 1, 1, 1, 1, 1, 1, 1, 1, 1, 1, 1, 1, 1, 1, 1, 1, 1, 1, 1, 1, 1, 1, 1, 1, 1, 1, 1, 1, 1, 1, 1, 1, 1, 1, 1, 1, 1, 1, 1, 1, 1, 1, 1, 1, 1, 1, 1, 1, 1, 1, 1, 1, 1, 1, 1, 1, 1, 1, 1, 1, 1, 1, 1, 1, 1, 1, 1, 1, 1, 1, 1, 1, 1, 1, 1, 1, 1, 1, 1, 1, 1, 1, 1, 1, 1, 1, 1, 1, 1, 1, 1, 1, 1, 1, 1, 1, 1, 1, 1, 1, 1, 1, 1, 1, 1, 1, 1, 1, 1, 1, 1, 1, 1, 1, 1, 1, 1, 1, 1, 1, 1, 1, 1, 1, 1, 1, 1, 1, 1, 1, 1, 1, 1, 1, 1, 1, 1, 1, 1, 1, 1, 1, 1, 1, 1, 1, 1, 1, 1, 1, 1, 1, 1, 1, 1, 1, 1, 1, 1, 1, 1, 1, 1, 1, 1, 1, 1, 1, 1, 1, 1, 1, 1, 1, 1, 1, 1, 1, 1, 1, 1, 1, 1]"
   ]
  },
  {
   "cell_type": "code",
   "execution_count": 61,
   "metadata": {},
   "outputs": [],
   "source": [
    "n_values = np.max(gold) + 1\n",
    "gold_onehot = np.eye(n_values)[gold]\n",
    "pred_onehot = np.eye(n_values)[pred]"
   ]
  },
  {
   "cell_type": "code",
   "execution_count": 62,
   "metadata": {},
   "outputs": [
    {
     "data": {
      "text/plain": [
       "(411, 5)"
      ]
     },
     "execution_count": 62,
     "metadata": {},
     "output_type": "execute_result"
    }
   ],
   "source": [
    "gold_onehot.shape"
   ]
  },
  {
   "cell_type": "code",
   "execution_count": 63,
   "metadata": {},
   "outputs": [],
   "source": [
    "gold_onehot = np.delete(gold_onehot,0,1)\n",
    "pred_onehot = np.delete(pred_onehot,0,1)"
   ]
  },
  {
   "cell_type": "code",
   "execution_count": 64,
   "metadata": {},
   "outputs": [
    {
     "data": {
      "text/plain": [
       "array([[1., 0., 0., 0.],\n",
       "       [1., 0., 0., 0.],\n",
       "       [1., 0., 0., 0.],\n",
       "       ...,\n",
       "       [1., 0., 0., 0.],\n",
       "       [1., 0., 0., 0.],\n",
       "       [1., 0., 0., 0.]])"
      ]
     },
     "execution_count": 64,
     "metadata": {},
     "output_type": "execute_result"
    }
   ],
   "source": [
    "pred_onehot"
   ]
  },
  {
   "cell_type": "code",
   "execution_count": 65,
   "metadata": {},
   "outputs": [
    {
     "data": {
      "text/plain": [
       "0.7956204379562045"
      ]
     },
     "execution_count": 65,
     "metadata": {},
     "output_type": "execute_result"
    }
   ],
   "source": [
    "roc_auc_score(gold_onehot, pred_onehot, average='micro')"
   ]
  },
  {
   "cell_type": "markdown",
   "metadata": {},
   "source": [
    "## Aspect Based Sentiment Classification"
   ]
  },
  {
   "cell_type": "markdown",
   "metadata": {},
   "source": [
    "### Modify the result file"
   ]
  },
  {
   "cell_type": "code",
   "execution_count": 58,
   "metadata": {},
   "outputs": [
    {
     "name": "stdout",
     "output_type": "stream",
     "text": [
      "              precision    recall  f1-score   support\n",
      "\n",
      "           0      0.812     0.790     0.801       945\n",
      "           1      0.819     0.838     0.829      1070\n",
      "\n",
      "    accuracy                          0.816      2015\n",
      "   macro avg      0.816     0.814     0.815      2015\n",
      "weighted avg      0.816     0.816     0.816      2015\n",
      "\n",
      "              precision    recall  f1-score   support\n",
      "\n",
      "  FEEDBACK_0      0.837     0.979     0.902       189\n",
      "  FEEDBACK_1      0.333     0.053     0.091        38\n",
      "   GENERAL_0      0.826     0.753     0.788       530\n",
      "   GENERAL_1      0.860     0.906     0.883       892\n",
      " PROFANITY_0      0.801     0.865     0.832       163\n",
      " PROFANITY_1      0.542     0.426     0.477        61\n",
      "  VIOLENCE_0      0.550     0.349     0.427        63\n",
      "  VIOLENCE_1      0.598     0.772     0.674        79\n",
      "\n",
      "    accuracy                          0.816      2015\n",
      "   macro avg      0.668     0.638     0.634      2015\n",
      "weighted avg      0.805     0.816     0.806      2015\n",
      "\n",
      "              precision    recall  f1-score   support\n",
      "\n",
      "  FEEDBACK_0      0.837     0.979     0.902       189\n",
      "  FEEDBACK_1      0.333     0.053     0.091        38\n",
      "\n",
      "   micro avg      0.824     0.824     0.824       227\n",
      "   macro avg      0.585     0.516     0.497       227\n",
      "weighted avg      0.753     0.824     0.767       227\n",
      "\n",
      "              precision    recall  f1-score   support\n",
      "\n",
      "   GENERAL_0      0.826     0.753     0.788       530\n",
      "   GENERAL_1      0.860     0.906     0.883       892\n",
      "\n",
      "   micro avg      0.849     0.849     0.849      1422\n",
      "   macro avg      0.843     0.829     0.835      1422\n",
      "weighted avg      0.848     0.849     0.847      1422\n",
      "\n",
      "              precision    recall  f1-score   support\n",
      "\n",
      " PROFANITY_0      0.801     0.865     0.832       163\n",
      " PROFANITY_1      0.542     0.426     0.477        61\n",
      "\n",
      "   micro avg      0.746     0.746     0.746       224\n",
      "   macro avg      0.671     0.646     0.654       224\n",
      "weighted avg      0.730     0.746     0.735       224\n",
      "\n",
      "              precision    recall  f1-score   support\n",
      "\n",
      "  VIOLENCE_0      0.550     0.349     0.427        63\n",
      "  VIOLENCE_1      0.598     0.772     0.674        79\n",
      "\n",
      "   micro avg      0.585     0.585     0.585       142\n",
      "   macro avg      0.574     0.561     0.551       142\n",
      "weighted avg      0.577     0.585     0.565       142\n",
      "\n"
     ]
    }
   ],
   "source": [
    "from sklearn.metrics import classification_report, accuracy_score, precision_recall_fscore_support\n",
    "import csv\n",
    "import glob\n",
    "\n",
    "y_pred = []\n",
    "y_true = []\n",
    "\n",
    "y_pred_aspect = []\n",
    "y_true_aspect = []\n",
    "\n",
    "y_pred_feed = []\n",
    "y_true_feed = []\n",
    "\n",
    "for file in glob.glob(\"./results/ss_ac_at_txt_unbal_lstm_3*.txt\"):\n",
    "    with open(file, newline='') as tsvin:\n",
    "        tsvin = csv.reader(tsvin, delimiter='\\t')\n",
    "        for row in tsvin:\n",
    "            if row:\n",
    "                aspect = row[-3]\n",
    "                gold = row[-2]\n",
    "                pred = row[-1]\n",
    "                y_true.append(gold)\n",
    "                y_pred.append(pred)                    \n",
    "                y_true_aspect.append(aspect+'_'+gold)\n",
    "                y_pred_aspect.append(aspect+'_'+pred)                     \n",
    "                \n",
    "# print(\"Classification Report without Aspect\")                \n",
    "print(classification_report(y_true, y_pred, digits=3))\n",
    "# \n",
    "# print(\"Classification Report with Aspect\")                \n",
    "print(classification_report(y_true_aspect, y_pred_aspect, digits=3))\n",
    "\n",
    "# print(\"Classification Report with Aspect\")                \n",
    "print(classification_report(y_true_aspect, y_pred_aspect, digits=3, labels=['FEEDBACK_0','FEEDBACK_1']))\n",
    "\n",
    "print(classification_report(y_true_aspect, y_pred_aspect, digits=3, labels=['GENERAL_0','GENERAL_1']))\n",
    "\n",
    "print(classification_report(y_true_aspect, y_pred_aspect, digits=3, labels=['PROFANITY_0','PROFANITY_1']))\n",
    "\n",
    "print(classification_report(y_true_aspect, y_pred_aspect, digits=3, labels=['VIOLENCE_0','VIOLENCE_1']))"
   ]
  },
  {
   "cell_type": "markdown",
   "metadata": {},
   "source": [
    "## Count the unigrams, bigrams of each aspect"
   ]
  },
  {
   "cell_type": "code",
   "execution_count": 55,
   "metadata": {},
   "outputs": [
    {
     "data": {
      "text/html": [
       "<div>\n",
       "<style scoped>\n",
       "    .dataframe tbody tr th:only-of-type {\n",
       "        vertical-align: middle;\n",
       "    }\n",
       "\n",
       "    .dataframe tbody tr th {\n",
       "        vertical-align: top;\n",
       "    }\n",
       "\n",
       "    .dataframe thead th {\n",
       "        text-align: right;\n",
       "    }\n",
       "</style>\n",
       "<table border=\"1\" class=\"dataframe\">\n",
       "  <thead>\n",
       "    <tr style=\"text-align: right;\">\n",
       "      <th></th>\n",
       "      <th>polarity</th>\n",
       "      <th>aspect</th>\n",
       "      <th>aspect_term</th>\n",
       "    </tr>\n",
       "  </thead>\n",
       "  <tbody>\n",
       "    <tr>\n",
       "      <th>0</th>\n",
       "      <td>0</td>\n",
       "      <td>FEEDBACK</td>\n",
       "      <td>अन्त्य  गर्नुपर्छ</td>\n",
       "    </tr>\n",
       "    <tr>\n",
       "      <th>1</th>\n",
       "      <td>0</td>\n",
       "      <td>PROFANITY</td>\n",
       "      <td>चोर</td>\n",
       "    </tr>\n",
       "    <tr>\n",
       "      <th>2</th>\n",
       "      <td>1</td>\n",
       "      <td>GENERAL</td>\n",
       "      <td>लुटे  को  रहेछ</td>\n",
       "    </tr>\n",
       "    <tr>\n",
       "      <th>3</th>\n",
       "      <td>0</td>\n",
       "      <td>GENERAL</td>\n",
       "      <td>खुसि  को  दिन</td>\n",
       "    </tr>\n",
       "    <tr>\n",
       "      <th>4</th>\n",
       "      <td>1</td>\n",
       "      <td>GENERAL</td>\n",
       "      <td>पाजी</td>\n",
       "    </tr>\n",
       "  </tbody>\n",
       "</table>\n",
       "</div>"
      ],
      "text/plain": [
       "   polarity      aspect         aspect_term\n",
       "0         0   FEEDBACK   अन्त्य  गर्नुपर्छ \n",
       "1         0  PROFANITY                 चोर \n",
       "2         1    GENERAL      लुटे  को  रहेछ \n",
       "3         0    GENERAL       खुसि  को  दिन \n",
       "4         1    GENERAL                पाजी "
      ]
     },
     "execution_count": 55,
     "metadata": {},
     "output_type": "execute_result"
    }
   ],
   "source": [
    "import pandas as pd\n",
    "\n",
    "df = pd.read_csv(\"./playground/file.txt\", names=['polarity', 'aspect', 'aspect_term', 'text'])\n",
    "df = df.drop(columns=['text'])\n",
    "df.head()"
   ]
  },
  {
   "cell_type": "code",
   "execution_count": 56,
   "metadata": {},
   "outputs": [],
   "source": [
    "df['at_length'] = df['aspect_term'].apply(lambda x: len(x.split()))"
   ]
  },
  {
   "cell_type": "code",
   "execution_count": 57,
   "metadata": {},
   "outputs": [
    {
     "data": {
      "text/html": [
       "<div>\n",
       "<style scoped>\n",
       "    .dataframe tbody tr th:only-of-type {\n",
       "        vertical-align: middle;\n",
       "    }\n",
       "\n",
       "    .dataframe tbody tr th {\n",
       "        vertical-align: top;\n",
       "    }\n",
       "\n",
       "    .dataframe thead th {\n",
       "        text-align: right;\n",
       "    }\n",
       "</style>\n",
       "<table border=\"1\" class=\"dataframe\">\n",
       "  <thead>\n",
       "    <tr style=\"text-align: right;\">\n",
       "      <th></th>\n",
       "      <th>polarity</th>\n",
       "      <th>aspect</th>\n",
       "      <th>aspect_term</th>\n",
       "      <th>at_length</th>\n",
       "    </tr>\n",
       "  </thead>\n",
       "  <tbody>\n",
       "    <tr>\n",
       "      <th>0</th>\n",
       "      <td>0</td>\n",
       "      <td>FEEDBACK</td>\n",
       "      <td>अन्त्य  गर्नुपर्छ</td>\n",
       "      <td>2</td>\n",
       "    </tr>\n",
       "    <tr>\n",
       "      <th>1</th>\n",
       "      <td>0</td>\n",
       "      <td>PROFANITY</td>\n",
       "      <td>चोर</td>\n",
       "      <td>1</td>\n",
       "    </tr>\n",
       "    <tr>\n",
       "      <th>2</th>\n",
       "      <td>1</td>\n",
       "      <td>GENERAL</td>\n",
       "      <td>लुटे  को  रहेछ</td>\n",
       "      <td>3</td>\n",
       "    </tr>\n",
       "    <tr>\n",
       "      <th>3</th>\n",
       "      <td>0</td>\n",
       "      <td>GENERAL</td>\n",
       "      <td>खुसि  को  दिन</td>\n",
       "      <td>3</td>\n",
       "    </tr>\n",
       "    <tr>\n",
       "      <th>4</th>\n",
       "      <td>1</td>\n",
       "      <td>GENERAL</td>\n",
       "      <td>पाजी</td>\n",
       "      <td>1</td>\n",
       "    </tr>\n",
       "  </tbody>\n",
       "</table>\n",
       "</div>"
      ],
      "text/plain": [
       "   polarity      aspect         aspect_term  at_length\n",
       "0         0   FEEDBACK   अन्त्य  गर्नुपर्छ           2\n",
       "1         0  PROFANITY                 चोर           1\n",
       "2         1    GENERAL      लुटे  को  रहेछ           3\n",
       "3         0    GENERAL       खुसि  को  दिन           3\n",
       "4         1    GENERAL                पाजी           1"
      ]
     },
     "execution_count": 57,
     "metadata": {},
     "output_type": "execute_result"
    }
   ],
   "source": [
    "df.head()"
   ]
  },
  {
   "cell_type": "code",
   "execution_count": 58,
   "metadata": {},
   "outputs": [
    {
     "data": {
      "text/html": [
       "<div>\n",
       "<style scoped>\n",
       "    .dataframe tbody tr th:only-of-type {\n",
       "        vertical-align: middle;\n",
       "    }\n",
       "\n",
       "    .dataframe tbody tr th {\n",
       "        vertical-align: top;\n",
       "    }\n",
       "\n",
       "    .dataframe thead th {\n",
       "        text-align: right;\n",
       "    }\n",
       "</style>\n",
       "<table border=\"1\" class=\"dataframe\">\n",
       "  <thead>\n",
       "    <tr style=\"text-align: right;\">\n",
       "      <th></th>\n",
       "      <th></th>\n",
       "      <th>polarity</th>\n",
       "      <th>aspect_term</th>\n",
       "    </tr>\n",
       "    <tr>\n",
       "      <th>aspect</th>\n",
       "      <th>at_length</th>\n",
       "      <th></th>\n",
       "      <th></th>\n",
       "    </tr>\n",
       "  </thead>\n",
       "  <tbody>\n",
       "    <tr>\n",
       "      <th rowspan=\"5\" valign=\"top\">FEEDBACK</th>\n",
       "      <th>1</th>\n",
       "      <td>75</td>\n",
       "      <td>75</td>\n",
       "    </tr>\n",
       "    <tr>\n",
       "      <th>2</th>\n",
       "      <td>324</td>\n",
       "      <td>324</td>\n",
       "    </tr>\n",
       "    <tr>\n",
       "      <th>3</th>\n",
       "      <td>85</td>\n",
       "      <td>85</td>\n",
       "    </tr>\n",
       "    <tr>\n",
       "      <th>4</th>\n",
       "      <td>21</td>\n",
       "      <td>21</td>\n",
       "    </tr>\n",
       "    <tr>\n",
       "      <th>5</th>\n",
       "      <td>3</td>\n",
       "      <td>3</td>\n",
       "    </tr>\n",
       "    <tr>\n",
       "      <th rowspan=\"10\" valign=\"top\">GENERAL</th>\n",
       "      <th>1</th>\n",
       "      <td>1272</td>\n",
       "      <td>1272</td>\n",
       "    </tr>\n",
       "    <tr>\n",
       "      <th>2</th>\n",
       "      <td>931</td>\n",
       "      <td>931</td>\n",
       "    </tr>\n",
       "    <tr>\n",
       "      <th>3</th>\n",
       "      <td>422</td>\n",
       "      <td>422</td>\n",
       "    </tr>\n",
       "    <tr>\n",
       "      <th>4</th>\n",
       "      <td>139</td>\n",
       "      <td>139</td>\n",
       "    </tr>\n",
       "    <tr>\n",
       "      <th>5</th>\n",
       "      <td>40</td>\n",
       "      <td>40</td>\n",
       "    </tr>\n",
       "    <tr>\n",
       "      <th>6</th>\n",
       "      <td>18</td>\n",
       "      <td>18</td>\n",
       "    </tr>\n",
       "    <tr>\n",
       "      <th>7</th>\n",
       "      <td>8</td>\n",
       "      <td>8</td>\n",
       "    </tr>\n",
       "    <tr>\n",
       "      <th>8</th>\n",
       "      <td>2</td>\n",
       "      <td>2</td>\n",
       "    </tr>\n",
       "    <tr>\n",
       "      <th>9</th>\n",
       "      <td>2</td>\n",
       "      <td>2</td>\n",
       "    </tr>\n",
       "    <tr>\n",
       "      <th>10</th>\n",
       "      <td>1</td>\n",
       "      <td>1</td>\n",
       "    </tr>\n",
       "    <tr>\n",
       "      <th rowspan=\"7\" valign=\"top\">PROFANITY</th>\n",
       "      <th>1</th>\n",
       "      <td>247</td>\n",
       "      <td>247</td>\n",
       "    </tr>\n",
       "    <tr>\n",
       "      <th>2</th>\n",
       "      <td>90</td>\n",
       "      <td>90</td>\n",
       "    </tr>\n",
       "    <tr>\n",
       "      <th>3</th>\n",
       "      <td>42</td>\n",
       "      <td>42</td>\n",
       "    </tr>\n",
       "    <tr>\n",
       "      <th>4</th>\n",
       "      <td>21</td>\n",
       "      <td>21</td>\n",
       "    </tr>\n",
       "    <tr>\n",
       "      <th>5</th>\n",
       "      <td>4</td>\n",
       "      <td>4</td>\n",
       "    </tr>\n",
       "    <tr>\n",
       "      <th>6</th>\n",
       "      <td>1</td>\n",
       "      <td>1</td>\n",
       "    </tr>\n",
       "    <tr>\n",
       "      <th>7</th>\n",
       "      <td>2</td>\n",
       "      <td>2</td>\n",
       "    </tr>\n",
       "    <tr>\n",
       "      <th rowspan=\"6\" valign=\"top\">VIOLENCE</th>\n",
       "      <th>1</th>\n",
       "      <td>79</td>\n",
       "      <td>79</td>\n",
       "    </tr>\n",
       "    <tr>\n",
       "      <th>2</th>\n",
       "      <td>101</td>\n",
       "      <td>101</td>\n",
       "    </tr>\n",
       "    <tr>\n",
       "      <th>3</th>\n",
       "      <td>62</td>\n",
       "      <td>62</td>\n",
       "    </tr>\n",
       "    <tr>\n",
       "      <th>4</th>\n",
       "      <td>28</td>\n",
       "      <td>28</td>\n",
       "    </tr>\n",
       "    <tr>\n",
       "      <th>5</th>\n",
       "      <td>12</td>\n",
       "      <td>12</td>\n",
       "    </tr>\n",
       "    <tr>\n",
       "      <th>6</th>\n",
       "      <td>3</td>\n",
       "      <td>3</td>\n",
       "    </tr>\n",
       "  </tbody>\n",
       "</table>\n",
       "</div>"
      ],
      "text/plain": [
       "                      polarity  aspect_term\n",
       "aspect     at_length                       \n",
       "FEEDBACK   1                75           75\n",
       "           2               324          324\n",
       "           3                85           85\n",
       "           4                21           21\n",
       "           5                 3            3\n",
       "GENERAL    1              1272         1272\n",
       "           2               931          931\n",
       "           3               422          422\n",
       "           4               139          139\n",
       "           5                40           40\n",
       "           6                18           18\n",
       "           7                 8            8\n",
       "           8                 2            2\n",
       "           9                 2            2\n",
       "           10                1            1\n",
       "PROFANITY  1               247          247\n",
       "           2                90           90\n",
       "           3                42           42\n",
       "           4                21           21\n",
       "           5                 4            4\n",
       "           6                 1            1\n",
       "           7                 2            2\n",
       "VIOLENCE   1                79           79\n",
       "           2               101          101\n",
       "           3                62           62\n",
       "           4                28           28\n",
       "           5                12           12\n",
       "           6                 3            3"
      ]
     },
     "execution_count": 58,
     "metadata": {},
     "output_type": "execute_result"
    }
   ],
   "source": [
    "df.groupby(['aspect','at_length']).count()"
   ]
  },
  {
   "cell_type": "code",
   "execution_count": 73,
   "metadata": {},
   "outputs": [
    {
     "data": {
      "text/plain": [
       "aspect\n",
       "FEEDBACK       463\n",
       "GENERAL       2012\n",
       "PROFANITY      221\n",
       "VIOLENCE       257\n",
       "Name: aspect_term, dtype: int64"
      ]
     },
     "execution_count": 73,
     "metadata": {},
     "output_type": "execute_result"
    }
   ],
   "source": [
    "# df.groupby(['aspect', 'polarity'])['aspect_term'].nunique()\n",
    "df.groupby(['aspect'])['aspect_term'].nunique()"
   ]
  },
  {
   "cell_type": "code",
   "execution_count": 74,
   "metadata": {},
   "outputs": [
    {
     "data": {
      "text/plain": [
       "aspect\n",
       "FEEDBACK       508\n",
       "GENERAL       2835\n",
       "PROFANITY      407\n",
       "VIOLENCE       285\n",
       "Name: aspect_term, dtype: int64"
      ]
     },
     "execution_count": 74,
     "metadata": {},
     "output_type": "execute_result"
    }
   ],
   "source": [
    "# df.groupby(['aspect', 'polarity'])['aspect_term'].count()\n",
    "df.groupby(['aspect'])['aspect_term'].count()"
   ]
  },
  {
   "cell_type": "markdown",
   "metadata": {},
   "source": [
    "### Split into 80/10/10 by group"
   ]
  },
  {
   "cell_type": "code",
   "execution_count": 224,
   "metadata": {},
   "outputs": [
    {
     "data": {
      "text/html": [
       "<div>\n",
       "<style scoped>\n",
       "    .dataframe tbody tr th:only-of-type {\n",
       "        vertical-align: middle;\n",
       "    }\n",
       "\n",
       "    .dataframe tbody tr th {\n",
       "        vertical-align: top;\n",
       "    }\n",
       "\n",
       "    .dataframe thead th {\n",
       "        text-align: right;\n",
       "    }\n",
       "</style>\n",
       "<table border=\"1\" class=\"dataframe\">\n",
       "  <thead>\n",
       "    <tr style=\"text-align: right;\">\n",
       "      <th></th>\n",
       "      <th>ss</th>\n",
       "      <th>ac</th>\n",
       "      <th>at</th>\n",
       "      <th>text</th>\n",
       "    </tr>\n",
       "  </thead>\n",
       "  <tbody>\n",
       "    <tr>\n",
       "      <th>0</th>\n",
       "      <td>0</td>\n",
       "      <td>GENERAL</td>\n",
       "      <td>जोगाउन को लागि</td>\n",
       "      <td>गुठी विधेक ल्याएर ठमेल मा राज गुठि को जग्गा मा...</td>\n",
       "    </tr>\n",
       "    <tr>\n",
       "      <th>1</th>\n",
       "      <td>1</td>\n",
       "      <td>GENERAL</td>\n",
       "      <td>लखेटनु पछ</td>\n",
       "      <td>दले ले देश सकेछन सबै बेचे र खान सुरू गरेछन अब ...</td>\n",
       "    </tr>\n",
       "    <tr>\n",
       "      <th>2</th>\n",
       "      <td>1</td>\n",
       "      <td>GENERAL</td>\n",
       "      <td>ससकृती ध्वस्त पार्ने</td>\n",
       "      <td>नेपाल को ससकृती ध्वस्त पार्ने योजना हो यो !</td>\n",
       "    </tr>\n",
       "    <tr>\n",
       "      <th>3</th>\n",
       "      <td>1</td>\n",
       "      <td>GENERAL</td>\n",
       "      <td>भुमाफिया</td>\n",
       "      <td>मठ मन्दिर गुम्बा का जग्गा हरु मा भुमाफिया को न...</td>\n",
       "    </tr>\n",
       "    <tr>\n",
       "      <th>4</th>\n",
       "      <td>1</td>\n",
       "      <td>GENERAL</td>\n",
       "      <td>बेची सके</td>\n",
       "      <td>नेपाल का कल कर्खाना र नदि नाला बेची सके अब मठ ...</td>\n",
       "    </tr>\n",
       "  </tbody>\n",
       "</table>\n",
       "</div>"
      ],
      "text/plain": [
       "   ss       ac                    at  \\\n",
       "0   0  GENERAL        जोगाउन को लागि   \n",
       "1   1  GENERAL             लखेटनु पछ   \n",
       "2   1  GENERAL  ससकृती ध्वस्त पार्ने   \n",
       "3   1  GENERAL              भुमाफिया   \n",
       "4   1  GENERAL              बेची सके   \n",
       "\n",
       "                                                text  \n",
       "0  गुठी विधेक ल्याएर ठमेल मा राज गुठि को जग्गा मा...  \n",
       "1  दले ले देश सकेछन सबै बेचे र खान सुरू गरेछन अब ...  \n",
       "2        नेपाल को ससकृती ध्वस्त पार्ने योजना हो यो !  \n",
       "3  मठ मन्दिर गुम्बा का जग्गा हरु मा भुमाफिया को न...  \n",
       "4  नेपाल का कल कर्खाना र नदि नाला बेची सके अब मठ ...  "
      ]
     },
     "execution_count": 224,
     "metadata": {},
     "output_type": "execute_result"
    }
   ],
   "source": [
    "import pandas as pd\n",
    "\n",
    "df_txt = pd.read_csv('./data/nepcls/ss_ac_at_txt_unbal.csv', delimiter=',', encoding='utf-8', \n",
    "                         skip_blank_lines=True, header=None, names=['ss', 'ac', 'at', 'text'])\n",
    "\n",
    "df_txt.head()"
   ]
  },
  {
   "cell_type": "code",
   "execution_count": 225,
   "metadata": {},
   "outputs": [
    {
     "data": {
      "text/html": [
       "<div>\n",
       "<style scoped>\n",
       "    .dataframe tbody tr th:only-of-type {\n",
       "        vertical-align: middle;\n",
       "    }\n",
       "\n",
       "    .dataframe tbody tr th {\n",
       "        vertical-align: top;\n",
       "    }\n",
       "\n",
       "    .dataframe thead th {\n",
       "        text-align: right;\n",
       "    }\n",
       "</style>\n",
       "<table border=\"1\" class=\"dataframe\">\n",
       "  <thead>\n",
       "    <tr style=\"text-align: right;\">\n",
       "      <th></th>\n",
       "      <th></th>\n",
       "      <th>at</th>\n",
       "      <th>text</th>\n",
       "    </tr>\n",
       "    <tr>\n",
       "      <th>ac</th>\n",
       "      <th>ss</th>\n",
       "      <th></th>\n",
       "      <th></th>\n",
       "    </tr>\n",
       "  </thead>\n",
       "  <tbody>\n",
       "    <tr>\n",
       "      <th rowspan=\"2\" valign=\"top\">FEEDBACK</th>\n",
       "      <th>0</th>\n",
       "      <td>426</td>\n",
       "      <td>426</td>\n",
       "    </tr>\n",
       "    <tr>\n",
       "      <th>1</th>\n",
       "      <td>82</td>\n",
       "      <td>82</td>\n",
       "    </tr>\n",
       "    <tr>\n",
       "      <th rowspan=\"2\" valign=\"top\">GENERAL</th>\n",
       "      <th>0</th>\n",
       "      <td>1052</td>\n",
       "      <td>1052</td>\n",
       "    </tr>\n",
       "    <tr>\n",
       "      <th>1</th>\n",
       "      <td>1783</td>\n",
       "      <td>1783</td>\n",
       "    </tr>\n",
       "    <tr>\n",
       "      <th rowspan=\"2\" valign=\"top\">PROFANITY</th>\n",
       "      <th>0</th>\n",
       "      <td>302</td>\n",
       "      <td>302</td>\n",
       "    </tr>\n",
       "    <tr>\n",
       "      <th>1</th>\n",
       "      <td>105</td>\n",
       "      <td>105</td>\n",
       "    </tr>\n",
       "    <tr>\n",
       "      <th rowspan=\"2\" valign=\"top\">VIOLENCE</th>\n",
       "      <th>0</th>\n",
       "      <td>114</td>\n",
       "      <td>114</td>\n",
       "    </tr>\n",
       "    <tr>\n",
       "      <th>1</th>\n",
       "      <td>171</td>\n",
       "      <td>171</td>\n",
       "    </tr>\n",
       "  </tbody>\n",
       "</table>\n",
       "</div>"
      ],
      "text/plain": [
       "                at  text\n",
       "ac        ss            \n",
       "FEEDBACK  0    426   426\n",
       "          1     82    82\n",
       "GENERAL   0   1052  1052\n",
       "          1   1783  1783\n",
       "PROFANITY 0    302   302\n",
       "          1    105   105\n",
       "VIOLENCE  0    114   114\n",
       "          1    171   171"
      ]
     },
     "execution_count": 225,
     "metadata": {},
     "output_type": "execute_result"
    }
   ],
   "source": [
    "df_txt.groupby(['ac','ss']).count()"
   ]
  },
  {
   "cell_type": "code",
   "execution_count": 226,
   "metadata": {},
   "outputs": [],
   "source": [
    "import pandas as pd\n",
    "from sklearn.model_selection import GroupShuffleSplit\n",
    "from sklearn.model_selection import train_test_split\n",
    "\n",
    "\n",
    "df_txt = pd.read_csv('./data/nepcls/ss_ac_at_txt_unbal.csv', delimiter=',', encoding='utf-8', \n",
    "                         skip_blank_lines=True, header=None, names=['ss', 'ac', 'at', 'text'])\n",
    "\n",
    "gss = GroupShuffleSplit(test_size=.20, n_splits=1, random_state = 163).split(df_txt, groups=df_txt['ss'])\n",
    "\n",
    "for positive_df, negative_df in gss:\n",
    "\n",
    "    negative = df_txt.iloc[negative_df]\n",
    "    positive = df_txt.iloc[positive_df]\n",
    "\n",
    "    train_neg, test_val_neg = train_test_split(negative, test_size=0.2)\n",
    "    train_pos, test_val_pos = train_test_split(positive, test_size=0.2)\n",
    "    test_neg, val_neg = train_test_split(test_val_neg, test_size=0.5)\n",
    "    test_pos, val_pos = train_test_split(test_val_pos, test_size=0.5)\n",
    "\n",
    "    train_df = pd.concat([train_pos, train_neg], ignore_index=True).sample(frac=1).reset_index(drop=True)\n",
    "    test_df = pd.concat([test_pos, test_neg], ignore_index=True).sample(frac=1).reset_index(drop=True)\n",
    "    val_df = pd.concat([val_pos, val_neg], ignore_index=True).sample(frac=1).reset_index(drop=True)\n",
    "\n",
    "    train_df.to_csv('train_fname.csv', header=False, index=False, quoting=csv.QUOTE_MINIMAL, quotechar=\"\",  escapechar=\" \", encoding='utf-8')\n",
    "    test_df.to_csv('test_fname.csv', header=False, index=False, quoting=csv.QUOTE_MINIMAL, quotechar=\"\",  escapechar=\" \", encoding='utf-8')\n",
    "    val_df.to_csv('val_fname.csv', header=False, index=False, quoting=csv.QUOTE_MINIMAL, quotechar=\"\",  escapechar=\" \", encoding='utf-8')\n",
    "\n",
    "# for i,(positive_df, negative_df) in enumerate(gss):\n",
    "#     negative = df_txt.iloc[negative_df]\n",
    "#     positive = df_txt.iloc[positive_df]\n",
    "    \n",
    "#     train_neg, test_val_neg = train_test_split(negative, test_size=0.2)\n",
    "#     train_pos, test_val_pos = train_test_split(positive, test_size=0.2)\n",
    "#     test_neg, val_neg = train_test_split(test_val_neg, test_size=0.5)\n",
    "#     test_pos, val_pos = train_test_split(test_val_pos, test_size=0.5)\n",
    "    \n",
    "#     train_df = pd.concat([train_pos, train_neg], ignore_index=True).sample(frac=1).reset_index(drop=True)\n",
    "#     test_df = pd.concat([test_pos, test_neg], ignore_index=True).sample(frac=1).reset_index(drop=True)\n",
    "#     val_df = pd.concat([val_pos, val_neg], ignore_index=True).sample(frac=1).reset_index(drop=True)\n",
    "    \n",
    "#     train_df.to_csv(train_fname, header=False, index=False, quoting=csv.QUOTE_NONE, quotechar=\"\",  escapechar=\" \", encoding='utf-8')\n",
    "#     test_df.to_csv(test_fname, header=False, index=False, quoting=csv.QUOTE_NONE, quotechar=\"\",  escapechar=\" \", encoding='utf-8')\n",
    "#     val_df.to_csv(val_fname, header=False, index=False, quoting=csv.QUOTE_NONE, quotechar=\"\",  escapechar=\" \", encoding='utf-8')\n",
    "    "
   ]
  },
  {
   "cell_type": "code",
   "execution_count": 229,
   "metadata": {},
   "outputs": [
    {
     "data": {
      "text/html": [
       "<div>\n",
       "<style scoped>\n",
       "    .dataframe tbody tr th:only-of-type {\n",
       "        vertical-align: middle;\n",
       "    }\n",
       "\n",
       "    .dataframe tbody tr th {\n",
       "        vertical-align: top;\n",
       "    }\n",
       "\n",
       "    .dataframe thead th {\n",
       "        text-align: right;\n",
       "    }\n",
       "</style>\n",
       "<table border=\"1\" class=\"dataframe\">\n",
       "  <thead>\n",
       "    <tr style=\"text-align: right;\">\n",
       "      <th></th>\n",
       "      <th>ss</th>\n",
       "    </tr>\n",
       "  </thead>\n",
       "  <tbody>\n",
       "    <tr>\n",
       "      <th>count</th>\n",
       "      <td>403.000000</td>\n",
       "    </tr>\n",
       "    <tr>\n",
       "      <th>mean</th>\n",
       "      <td>0.531017</td>\n",
       "    </tr>\n",
       "    <tr>\n",
       "      <th>std</th>\n",
       "      <td>0.499657</td>\n",
       "    </tr>\n",
       "    <tr>\n",
       "      <th>min</th>\n",
       "      <td>0.000000</td>\n",
       "    </tr>\n",
       "    <tr>\n",
       "      <th>25%</th>\n",
       "      <td>0.000000</td>\n",
       "    </tr>\n",
       "    <tr>\n",
       "      <th>50%</th>\n",
       "      <td>1.000000</td>\n",
       "    </tr>\n",
       "    <tr>\n",
       "      <th>75%</th>\n",
       "      <td>1.000000</td>\n",
       "    </tr>\n",
       "    <tr>\n",
       "      <th>max</th>\n",
       "      <td>1.000000</td>\n",
       "    </tr>\n",
       "  </tbody>\n",
       "</table>\n",
       "</div>"
      ],
      "text/plain": [
       "               ss\n",
       "count  403.000000\n",
       "mean     0.531017\n",
       "std      0.499657\n",
       "min      0.000000\n",
       "25%      0.000000\n",
       "50%      1.000000\n",
       "75%      1.000000\n",
       "max      1.000000"
      ]
     },
     "execution_count": 229,
     "metadata": {},
     "output_type": "execute_result"
    }
   ],
   "source": [
    "pd_test = pd.read_csv('./test_fname.csv', delimiter=',', encoding='utf-8', \n",
    "                         skip_blank_lines=True, header=None, \n",
    "                         quoting=csv.QUOTE_MINIMAL, names=['ss', 'ac', 'at', 'text'])\n",
    "pd_test.describe()"
   ]
  },
  {
   "cell_type": "code",
   "execution_count": null,
   "metadata": {},
   "outputs": [],
   "source": []
  },
  {
   "cell_type": "code",
   "execution_count": 213,
   "metadata": {},
   "outputs": [
    {
     "data": {
      "text/html": [
       "<div>\n",
       "<style scoped>\n",
       "    .dataframe tbody tr th:only-of-type {\n",
       "        vertical-align: middle;\n",
       "    }\n",
       "\n",
       "    .dataframe tbody tr th {\n",
       "        vertical-align: top;\n",
       "    }\n",
       "\n",
       "    .dataframe thead th {\n",
       "        text-align: right;\n",
       "    }\n",
       "</style>\n",
       "<table border=\"1\" class=\"dataframe\">\n",
       "  <thead>\n",
       "    <tr style=\"text-align: right;\">\n",
       "      <th></th>\n",
       "      <th>ss</th>\n",
       "      <th>at</th>\n",
       "      <th>text</th>\n",
       "    </tr>\n",
       "    <tr>\n",
       "      <th>ac</th>\n",
       "      <th></th>\n",
       "      <th></th>\n",
       "      <th></th>\n",
       "    </tr>\n",
       "  </thead>\n",
       "  <tbody>\n",
       "    <tr>\n",
       "      <th>FEEDBACK</th>\n",
       "      <td>428</td>\n",
       "      <td>428</td>\n",
       "      <td>428</td>\n",
       "    </tr>\n",
       "    <tr>\n",
       "      <th>GENERAL</th>\n",
       "      <td>2252</td>\n",
       "      <td>2252</td>\n",
       "      <td>2252</td>\n",
       "    </tr>\n",
       "    <tr>\n",
       "      <th>PROFANITY</th>\n",
       "      <td>319</td>\n",
       "      <td>319</td>\n",
       "      <td>319</td>\n",
       "    </tr>\n",
       "    <tr>\n",
       "      <th>VIOLENCE</th>\n",
       "      <td>228</td>\n",
       "      <td>228</td>\n",
       "      <td>228</td>\n",
       "    </tr>\n",
       "  </tbody>\n",
       "</table>\n",
       "</div>"
      ],
      "text/plain": [
       "             ss    at  text\n",
       "ac                         \n",
       "FEEDBACK    428   428   428\n",
       "GENERAL    2252  2252  2252\n",
       "PROFANITY   319   319   319\n",
       "VIOLENCE    228   228   228"
      ]
     },
     "execution_count": 213,
     "metadata": {},
     "output_type": "execute_result"
    }
   ],
   "source": [
    "train_df.groupby('ac').count()"
   ]
  },
  {
   "cell_type": "code",
   "execution_count": 205,
   "metadata": {},
   "outputs": [
    {
     "data": {
      "text/html": [
       "<div>\n",
       "<style scoped>\n",
       "    .dataframe tbody tr th:only-of-type {\n",
       "        vertical-align: middle;\n",
       "    }\n",
       "\n",
       "    .dataframe tbody tr th {\n",
       "        vertical-align: top;\n",
       "    }\n",
       "\n",
       "    .dataframe thead th {\n",
       "        text-align: right;\n",
       "    }\n",
       "</style>\n",
       "<table border=\"1\" class=\"dataframe\">\n",
       "  <thead>\n",
       "    <tr style=\"text-align: right;\">\n",
       "      <th></th>\n",
       "      <th>ss</th>\n",
       "      <th>at</th>\n",
       "      <th>text</th>\n",
       "    </tr>\n",
       "    <tr>\n",
       "      <th>ac</th>\n",
       "      <th></th>\n",
       "      <th></th>\n",
       "      <th></th>\n",
       "    </tr>\n",
       "  </thead>\n",
       "  <tbody>\n",
       "    <tr>\n",
       "      <th>FEEDBACK</th>\n",
       "      <td>49</td>\n",
       "      <td>49</td>\n",
       "      <td>49</td>\n",
       "    </tr>\n",
       "    <tr>\n",
       "      <th>GENERAL</th>\n",
       "      <td>278</td>\n",
       "      <td>278</td>\n",
       "      <td>278</td>\n",
       "    </tr>\n",
       "    <tr>\n",
       "      <th>PROFANITY</th>\n",
       "      <td>41</td>\n",
       "      <td>41</td>\n",
       "      <td>41</td>\n",
       "    </tr>\n",
       "    <tr>\n",
       "      <th>VIOLENCE</th>\n",
       "      <td>35</td>\n",
       "      <td>35</td>\n",
       "      <td>35</td>\n",
       "    </tr>\n",
       "  </tbody>\n",
       "</table>\n",
       "</div>"
      ],
      "text/plain": [
       "            ss   at  text\n",
       "ac                       \n",
       "FEEDBACK    49   49    49\n",
       "GENERAL    278  278   278\n",
       "PROFANITY   41   41    41\n",
       "VIOLENCE    35   35    35"
      ]
     },
     "execution_count": 205,
     "metadata": {},
     "output_type": "execute_result"
    }
   ],
   "source": [
    "test_df.groupby('ac').count()"
   ]
  },
  {
   "cell_type": "code",
   "execution_count": 206,
   "metadata": {},
   "outputs": [
    {
     "data": {
      "text/html": [
       "<div>\n",
       "<style scoped>\n",
       "    .dataframe tbody tr th:only-of-type {\n",
       "        vertical-align: middle;\n",
       "    }\n",
       "\n",
       "    .dataframe tbody tr th {\n",
       "        vertical-align: top;\n",
       "    }\n",
       "\n",
       "    .dataframe thead th {\n",
       "        text-align: right;\n",
       "    }\n",
       "</style>\n",
       "<table border=\"1\" class=\"dataframe\">\n",
       "  <thead>\n",
       "    <tr style=\"text-align: right;\">\n",
       "      <th></th>\n",
       "      <th>ss</th>\n",
       "      <th>at</th>\n",
       "      <th>text</th>\n",
       "    </tr>\n",
       "    <tr>\n",
       "      <th>ac</th>\n",
       "      <th></th>\n",
       "      <th></th>\n",
       "      <th></th>\n",
       "    </tr>\n",
       "  </thead>\n",
       "  <tbody>\n",
       "    <tr>\n",
       "      <th>FEEDBACK</th>\n",
       "      <td>58</td>\n",
       "      <td>58</td>\n",
       "      <td>58</td>\n",
       "    </tr>\n",
       "    <tr>\n",
       "      <th>GENERAL</th>\n",
       "      <td>281</td>\n",
       "      <td>281</td>\n",
       "      <td>281</td>\n",
       "    </tr>\n",
       "    <tr>\n",
       "      <th>PROFANITY</th>\n",
       "      <td>33</td>\n",
       "      <td>33</td>\n",
       "      <td>33</td>\n",
       "    </tr>\n",
       "    <tr>\n",
       "      <th>VIOLENCE</th>\n",
       "      <td>33</td>\n",
       "      <td>33</td>\n",
       "      <td>33</td>\n",
       "    </tr>\n",
       "  </tbody>\n",
       "</table>\n",
       "</div>"
      ],
      "text/plain": [
       "            ss   at  text\n",
       "ac                       \n",
       "FEEDBACK    58   58    58\n",
       "GENERAL    281  281   281\n",
       "PROFANITY   33   33    33\n",
       "VIOLENCE    33   33    33"
      ]
     },
     "execution_count": 206,
     "metadata": {},
     "output_type": "execute_result"
    }
   ],
   "source": [
    "# test_pos.groupby('ac').count()\n",
    "val_df.groupby('ac').count()"
   ]
  },
  {
   "cell_type": "code",
   "execution_count": 209,
   "metadata": {},
   "outputs": [
    {
     "data": {
      "text/html": [
       "<div>\n",
       "<style scoped>\n",
       "    .dataframe tbody tr th:only-of-type {\n",
       "        vertical-align: middle;\n",
       "    }\n",
       "\n",
       "    .dataframe tbody tr th {\n",
       "        vertical-align: top;\n",
       "    }\n",
       "\n",
       "    .dataframe thead th {\n",
       "        text-align: right;\n",
       "    }\n",
       "</style>\n",
       "<table border=\"1\" class=\"dataframe\">\n",
       "  <thead>\n",
       "    <tr style=\"text-align: right;\">\n",
       "      <th></th>\n",
       "      <th>ss</th>\n",
       "      <th>ac</th>\n",
       "      <th>at</th>\n",
       "      <th>text</th>\n",
       "    </tr>\n",
       "  </thead>\n",
       "  <tbody>\n",
       "    <tr>\n",
       "      <th>0</th>\n",
       "      <td>0</td>\n",
       "      <td>GENERAL</td>\n",
       "      <td>महान</td>\n",
       "      <td>मेयर ज्यु , तपाईं जस्तो महान मेयर हाम्रो नेपाल...</td>\n",
       "    </tr>\n",
       "    <tr>\n",
       "      <th>1</th>\n",
       "      <td>1</td>\n",
       "      <td>PROFANITY</td>\n",
       "      <td>मुजि</td>\n",
       "      <td>यो माचिक्ने kp र प्रचन्द लाइ सिदै गोलि हान्छु ...</td>\n",
       "    </tr>\n",
       "    <tr>\n",
       "      <th>2</th>\n",
       "      <td>0</td>\n",
       "      <td>GENERAL</td>\n",
       "      <td>बबाल</td>\n",
       "      <td>ल बबाल भए छ 🤔 ️ ।</td>\n",
       "    </tr>\n",
       "    <tr>\n",
       "      <th>3</th>\n",
       "      <td>0</td>\n",
       "      <td>PROFANITY</td>\n",
       "      <td>साला</td>\n",
       "      <td>ओय साला पोखरेल तं साला कति झूठबोलना सकेहोला ।</td>\n",
       "    </tr>\n",
       "    <tr>\n",
       "      <th>4</th>\n",
       "      <td>1</td>\n",
       "      <td>GENERAL</td>\n",
       "      <td>जेल हाल्दिनु पर्छ</td>\n",
       "      <td>सबै चोर हो , सबै जना लाई जेल हाल्दिनु पर्छ ।</td>\n",
       "    </tr>\n",
       "    <tr>\n",
       "      <th>...</th>\n",
       "      <td>...</td>\n",
       "      <td>...</td>\n",
       "      <td>...</td>\n",
       "      <td>...</td>\n",
       "    </tr>\n",
       "    <tr>\n",
       "      <th>3222</th>\n",
       "      <td>1</td>\n",
       "      <td>GENERAL</td>\n",
       "      <td>तत्व</td>\n",
       "      <td>रबि को रिहाईसँगै प्रचण्डे , रेणुदाहाल , किशोरश...</td>\n",
       "    </tr>\n",
       "    <tr>\n",
       "      <th>3223</th>\n",
       "      <td>1</td>\n",
       "      <td>GENERAL</td>\n",
       "      <td>उखाने र गुखाने</td>\n",
       "      <td>अझ ठुलो नाइके त उखाने र गुखाने नै हुन ।</td>\n",
       "    </tr>\n",
       "    <tr>\n",
       "      <th>3224</th>\n",
       "      <td>0</td>\n",
       "      <td>FEEDBACK</td>\n",
       "      <td>सिक्न पर्यो</td>\n",
       "      <td>केसि पनि जिल्ल परे बरै कहा को प्रस्न कहाँ लगेर...</td>\n",
       "    </tr>\n",
       "    <tr>\n",
       "      <th>3225</th>\n",
       "      <td>1</td>\n",
       "      <td>GENERAL</td>\n",
       "      <td>अाफ्नाे खुट्टा मा अाफै बन्चरो</td>\n",
       "      <td>याे सरकार ले अाफ्नाे खुट्टा मा अाफै बन्चरो हान...</td>\n",
       "    </tr>\n",
       "    <tr>\n",
       "      <th>3226</th>\n",
       "      <td>0</td>\n",
       "      <td>PROFANITY</td>\n",
       "      <td>saale चोर</td>\n",
       "      <td>कुकुर र बिरला को झगड़ा saale चोर हरू लाई बोलन ...</td>\n",
       "    </tr>\n",
       "  </tbody>\n",
       "</table>\n",
       "<p>3227 rows × 4 columns</p>\n",
       "</div>"
      ],
      "text/plain": [
       "      ss         ac                             at  \\\n",
       "0      0    GENERAL                           महान   \n",
       "1      1  PROFANITY                           मुजि   \n",
       "2      0    GENERAL                           बबाल   \n",
       "3      0  PROFANITY                           साला   \n",
       "4      1    GENERAL              जेल हाल्दिनु पर्छ   \n",
       "...   ..        ...                            ...   \n",
       "3222   1    GENERAL                           तत्व   \n",
       "3223   1    GENERAL                 उखाने र गुखाने   \n",
       "3224   0   FEEDBACK                    सिक्न पर्यो   \n",
       "3225   1    GENERAL  अाफ्नाे खुट्टा मा अाफै बन्चरो   \n",
       "3226   0  PROFANITY                      saale चोर   \n",
       "\n",
       "                                                   text  \n",
       "0     मेयर ज्यु , तपाईं जस्तो महान मेयर हाम्रो नेपाल...  \n",
       "1     यो माचिक्ने kp र प्रचन्द लाइ सिदै गोलि हान्छु ...  \n",
       "2                                     ल बबाल भए छ 🤔 ️ ।  \n",
       "3         ओय साला पोखरेल तं साला कति झूठबोलना सकेहोला ।  \n",
       "4          सबै चोर हो , सबै जना लाई जेल हाल्दिनु पर्छ ।  \n",
       "...                                                 ...  \n",
       "3222  रबि को रिहाईसँगै प्रचण्डे , रेणुदाहाल , किशोरश...  \n",
       "3223            अझ ठुलो नाइके त उखाने र गुखाने नै हुन ।  \n",
       "3224  केसि पनि जिल्ल परे बरै कहा को प्रस्न कहाँ लगेर...  \n",
       "3225  याे सरकार ले अाफ्नाे खुट्टा मा अाफै बन्चरो हान...  \n",
       "3226  कुकुर र बिरला को झगड़ा saale चोर हरू लाई बोलन ...  \n",
       "\n",
       "[3227 rows x 4 columns]"
      ]
     },
     "execution_count": 209,
     "metadata": {},
     "output_type": "execute_result"
    }
   ],
   "source": [
    "train_df"
   ]
  },
  {
   "cell_type": "markdown",
   "metadata": {},
   "source": [
    "### Count English words vs Nepali words in dataset"
   ]
  },
  {
   "cell_type": "code",
   "execution_count": 108,
   "metadata": {},
   "outputs": [],
   "source": [
    "file=\"./data/dataset/text_tag_only/text_only.txt\"\n",
    "\n",
    "word_count=0\n",
    "word_num=0\n",
    "sentences=[]\n",
    "unique_word=set()\n",
    "full_english_words = []\n",
    "unique_english_words = []\n",
    "pattern=r\"^[a-zA-Z0-9]+$\"\n",
    "\n",
    "with open(file, newline='') as in_file:\n",
    "    reader=in_file.readlines()\n",
    "    for sent in reader:\n",
    "        splitted=sent.rstrip().split()\n",
    "        sentences.append(splitted)\n",
    "        for each in splitted:\n",
    "            if re.match(pattern, each):\n",
    "                full_english_words.append(each)            \n",
    "            unique_word.add(each)\n",
    "        word_num+=len(splitted)"
   ]
  },
  {
   "cell_type": "code",
   "execution_count": 109,
   "metadata": {},
   "outputs": [
    {
     "name": "stdout",
     "output_type": "stream",
     "text": [
      "Count of unique word 11465\n",
      "Count of total words 62163\n",
      "Count of total english words 1133\n"
     ]
    }
   ],
   "source": [
    "print(\"Count of unique word\", len(unique_word))\n",
    "print(\"Count of total words\", word_num)\n",
    "print(\"Count of total english words\", len(full_english_words))"
   ]
  },
  {
   "cell_type": "code",
   "execution_count": 110,
   "metadata": {},
   "outputs": [
    {
     "name": "stdout",
     "output_type": "stream",
     "text": [
      "1133\n"
     ]
    }
   ],
   "source": [
    "print(len(full_english_words))"
   ]
  },
  {
   "cell_type": "code",
   "execution_count": 111,
   "metadata": {},
   "outputs": [
    {
     "name": "stdout",
     "output_type": "stream",
     "text": [
      "Unique english words count =  671\n"
     ]
    }
   ],
   "source": [
    "import re\n",
    "unique_english_words = []\n",
    "for each in unique_word:\n",
    "    if re.match(pattern, each):\n",
    "        unique_english_words.append(each)\n",
    "        \n",
    "print(\"Unique english words count = \",len(unique_english_words))"
   ]
  },
  {
   "cell_type": "code",
   "execution_count": 113,
   "metadata": {},
   "outputs": [
    {
     "name": "stdout",
     "output_type": "stream",
     "text": [
      "Ratio of english words to nepali words =  0.018564640340815994\n"
     ]
    }
   ],
   "source": [
    "total_english_num=len(full_english_words)\n",
    "print(\"Ratio of english words to nepali words = \", total_english_num/(word_num-total_english_num))"
   ]
  },
  {
   "cell_type": "code",
   "execution_count": null,
   "metadata": {},
   "outputs": [],
   "source": []
  }
 ],
 "metadata": {
  "kernelspec": {
   "display_name": "Python 3",
   "language": "python",
   "name": "python3"
  },
  "language_info": {
   "codemirror_mode": {
    "name": "ipython",
    "version": 3
   },
   "file_extension": ".py",
   "mimetype": "text/x-python",
   "name": "python",
   "nbconvert_exporter": "python",
   "pygments_lexer": "ipython3",
   "version": "3.6.9"
  }
 },
 "nbformat": 4,
 "nbformat_minor": 2
}
